{
  "nbformat": 4,
  "nbformat_minor": 0,
  "metadata": {
    "colab": {
      "name": "Untitled0.ipynb",
      "provenance": [],
      "collapsed_sections": []
    },
    "kernelspec": {
      "name": "python3",
      "display_name": "Python 3"
    },
    "language_info": {
      "name": "python"
    }
  },
  "cells": [
    {
      "cell_type": "markdown",
      "metadata": {
        "id": "rKTSD1q3f1XU"
      },
      "source": [
        "#Jugando con los numeros\n"
      ]
    },
    {
      "cell_type": "code",
      "metadata": {
        "colab": {
          "base_uri": "https://localhost:8080/"
        },
        "id": "OptCGyG1KuQu",
        "outputId": "912d6e03-6041-4f2d-a329-3380c5a44ab8"
      },
      "source": [
        "clasic_way=42.4354\n",
        "print(\"clasic_way:%.3f\"%clasic_way)"
      ],
      "execution_count": null,
      "outputs": [
        {
          "output_type": "stream",
          "text": [
            "clasic_way:42.435\n"
          ],
          "name": "stdout"
        }
      ]
    },
    {
      "cell_type": "code",
      "metadata": {
        "colab": {
          "base_uri": "https://localhost:8080/"
        },
        "id": "NKuRTulqmfqK",
        "outputId": "3e97b0b4-4ae0-4f51-c508-de0f567e4b1c"
      },
      "source": [
        "clasic_way=round(32.1456,2)\n",
        "print(clasic_way)"
      ],
      "execution_count": null,
      "outputs": [
        {
          "output_type": "stream",
          "text": [
            "32.15\n"
          ],
          "name": "stdout"
        }
      ]
    },
    {
      "cell_type": "code",
      "metadata": {
        "colab": {
          "base_uri": "https://localhost:8080/"
        },
        "id": "lpGbYkUsnf91",
        "outputId": "713d8c7b-7d5d-4707-c786-a744b75cd4ad"
      },
      "source": [
        "clasic_way=12.123456789\n",
        "print(format(clasic_way,\".3f\"))"
      ],
      "execution_count": null,
      "outputs": [
        {
          "output_type": "stream",
          "text": [
            "12.123\n"
          ],
          "name": "stdout"
        }
      ]
    },
    {
      "cell_type": "code",
      "metadata": {
        "id": "P14sDG4SxMhB"
      },
      "source": [
        "texto=\"Hola mundo www\"\n",
        "print(\"Clasic STR:%.10s\" % texto)"
      ],
      "execution_count": null,
      "outputs": []
    },
    {
      "cell_type": "markdown",
      "metadata": {
        "id": "jyJsZS3-3qE1"
      },
      "source": [
        "#Practicando con numeros aleatorios\n"
      ]
    },
    {
      "cell_type": "code",
      "metadata": {
        "id": "GOwLDd173w8h"
      },
      "source": [
        "import random\n",
        "lista=[]\n",
        "for _ in range (10):\n",
        "  rand=random.randint(5,50)\n",
        "  lista.append(rand)\n",
        "\n",
        "print(lista)\n"
      ],
      "execution_count": null,
      "outputs": []
    },
    {
      "cell_type": "code",
      "metadata": {
        "id": "adw3vgQqDB2_"
      },
      "source": [
        "import random\n",
        "lista=[]\n",
        "for _ in range (20):\n",
        "  rand=random.randrange(0,100,2)\n",
        "  lista.append(rand)\n",
        "\n",
        "print(lista)"
      ],
      "execution_count": null,
      "outputs": []
    }
  ]
}